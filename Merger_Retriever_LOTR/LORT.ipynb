{
 "cells": [
  {
   "cell_type": "code",
   "execution_count": 1,
   "metadata": {},
   "outputs": [],
   "source": [
    "import os"
   ]
  },
  {
   "cell_type": "code",
   "execution_count": 4,
   "metadata": {},
   "outputs": [],
   "source": [
    "import os\n",
    "import chromadb\n",
    "from langchain_community.vectorstores.chroma import Chroma\n",
    "from langchain_community.document_transformers.long_context_reorder import (\n",
    "    LongContextReorder\n",
    ")\n",
    "from langchain_community.document_loaders import PyPDFLoader\n",
    "from langchain_community.embeddings.huggingface import HuggingFaceEmbeddings, HuggingFaceBgeEmbeddings\n",
    "from langchain.retrievers.merger_retriever import MergerRetriever\n",
    "from langchain.text_splitter import RecursiveCharacterTextSplitter"
   ]
  },
  {
   "cell_type": "code",
   "execution_count": 3,
   "metadata": {},
   "outputs": [
    {
     "name": "stderr",
     "output_type": "stream",
     "text": [
      "c:\\Users\\ADMIN\\miniconda3\\envs\\langchain\\lib\\site-packages\\huggingface_hub\\file_download.py:1132: FutureWarning: `resume_download` is deprecated and will be removed in version 1.0.0. Downloads always resume when possible. If you want to force a new download, use `force_download=True`.\n",
      "  warnings.warn(\n"
     ]
    },
    {
     "name": "stdout",
     "output_type": "stream",
     "text": [
      "Embedding Model Loaded..........\n"
     ]
    }
   ],
   "source": [
    "## Get the Embedding Model\n",
    "model_name = \"BAAI/bge-large-en\"\n",
    "model_kwargs = {'device': 'cpu'}\n",
    "encode_kwargs = {'normalize_embeddings': False}\n",
    "hf = HuggingFaceBgeEmbeddings(\n",
    "    model_name=model_name,\n",
    "    model_kwargs=model_kwargs,\n",
    "    encode_kwargs=encode_kwargs\n",
    ")\n",
    "print(\"Embedding Model Loaded..........\")"
   ]
  },
  {
   "cell_type": "markdown",
   "metadata": {},
   "source": [
    "## Data Preprocessing"
   ]
  },
  {
   "cell_type": "code",
   "execution_count": 6,
   "metadata": {},
   "outputs": [],
   "source": [
    "loader_un_sdg = PyPDFLoader(r\"C:\\Users\\ADMIN\\Desktop\\LANGCHAIN\\RAG_PROJECTS\\Merger_Retriever_LOTR\\Data\\UN SDG.pdf\")\n",
    "documents_un_sdg = loader_un_sdg.load()\n",
    "text_splitter_un_sdg = RecursiveCharacterTextSplitter(chunk_size=1000,\n",
    "                                                      chunk_overlap = 100)\n",
    "texts_un_sdg = text_splitter_un_sdg.split_documents(documents_un_sdg)"
   ]
  },
  {
   "cell_type": "code",
   "execution_count": 11,
   "metadata": {},
   "outputs": [
    {
     "data": {
      "text/plain": [
       "Document(page_content='UNITED NA TIONSTRANSFORMING OUR WORLD:\\nTHE 2030 AGENDA FOR \\nSUST AINABLE DEVELOPMENT\\nsustainabledevelopment.un.orgA/RES/70/1', metadata={'source': 'C:\\\\Users\\\\ADMIN\\\\Desktop\\\\LANGCHAIN\\\\RAG_PROJECTS\\\\Merger_Retriever_LOTR\\\\Data\\\\UN SDG.pdf', 'page': 1})"
      ]
     },
     "execution_count": 11,
     "metadata": {},
     "output_type": "execute_result"
    }
   ],
   "source": [
    "texts_un_sdg[1]"
   ]
  },
  {
   "cell_type": "code",
   "execution_count": 12,
   "metadata": {},
   "outputs": [],
   "source": [
    "loader_paris_agreement = PyPDFLoader(r\"C:\\Users\\ADMIN\\Desktop\\LANGCHAIN\\RAG_PROJECTS\\Merger_Retriever_LOTR\\Data\\english_paris_agreement.pdf\")\n",
    "documents_paris_agreement = loader_paris_agreement.load()\n",
    "text_splitter_paris_agreement = RecursiveCharacterTextSplitter(chunk_size=1000,\n",
    "                                                      chunk_overlap = 100)\n",
    "texts_paris_agreement = text_splitter_paris_agreement.split_documents(documents_paris_agreement)"
   ]
  },
  {
   "cell_type": "code",
   "execution_count": 14,
   "metadata": {},
   "outputs": [
    {
     "data": {
      "text/plain": [
       "Document(page_content='PARIS AGREEMENT \\nThe Parties to this Agreement, \\nBeing Parties to the United Nations Framework Convention on Climate \\nChange, hereinafter referred to as \"the Convention\", \\nPursuant to the Durban Platform for Enhanced Action established by \\ndecision 1/CP.17 of the Conference of the Parties to the Convention at its \\nseventeenth session, \\nIn pursuit of the objective of the Convention, and being guided by its \\nprinciples, including the principle of equity and common but differentiated \\nresponsibilities and  respective capabilities, in the light of different national \\ncircumstances, \\nRecognizing the need for an effective and progressive response to the \\nurgent threat of climate change on the basis of the best available scientific \\nknowledge, \\nAlso recognizing the specific needs and special circumstances of \\ndeveloping country Parties, especially those that are particularly vulnerable to the \\nadverse effects of climate change, as provided for in the Convention,', metadata={'source': 'C:\\\\Users\\\\ADMIN\\\\Desktop\\\\LANGCHAIN\\\\RAG_PROJECTS\\\\Merger_Retriever_LOTR\\\\Data\\\\english_paris_agreement.pdf', 'page': 2})"
      ]
     },
     "execution_count": 14,
     "metadata": {},
     "output_type": "execute_result"
    }
   ],
   "source": [
    "texts_paris_agreement[1]"
   ]
  },
  {
   "cell_type": "markdown",
   "metadata": {},
   "source": [
    "## Create and Store VectorStore"
   ]
  },
  {
   "cell_type": "code",
   "execution_count": 16,
   "metadata": {},
   "outputs": [
    {
     "name": "stdout",
     "output_type": "stream",
     "text": [
      "First Vector Store Created.........\n"
     ]
    }
   ],
   "source": [
    "load_un_sdg_store = Chroma.from_documents(\n",
    "    texts_un_sdg,\n",
    "    hf,\n",
    "    collection_metadata={\"hnsw:space\": \"cosine\"},\n",
    "    persist_directory=r\"C:\\Users\\ADMIN\\Desktop\\LANGCHAIN\\RAG_PROJECTS\\Merger_Retriever_LOTR\\store\\un_sdg_chroma_cosine\",\n",
    "    )\n",
    "print(\"First Vector Store Created.........\")"
   ]
  },
  {
   "cell_type": "code",
   "execution_count": 17,
   "metadata": {},
   "outputs": [
    {
     "name": "stdout",
     "output_type": "stream",
     "text": [
      "Second Vector Store Created.........\n"
     ]
    }
   ],
   "source": [
    "load_paris_agreement_store = Chroma.from_documents(\n",
    "    texts_paris_agreement,\n",
    "    hf,\n",
    "    collection_metadata={\"hnsw:space\": \"cosine\"},\n",
    "    persist_directory=r\"C:\\Users\\ADMIN\\Desktop\\LANGCHAIN\\RAG_PROJECTS\\Merger_Retriever_LOTR\\store\\paris_agreement_chroma_cosine\",\n",
    "    )\n",
    "print(\"Second Vector Store Created.........\")"
   ]
  },
  {
   "cell_type": "markdown",
   "metadata": {},
   "source": [
    "## Load VectorStore"
   ]
  },
  {
   "cell_type": "code",
   "execution_count": 18,
   "metadata": {},
   "outputs": [],
   "source": [
    "load_un_sdg_store = Chroma(persist_directory=r\"C:\\Users\\ADMIN\\Desktop\\LANGCHAIN\\RAG_PROJECTS\\Merger_Retriever_LOTR\\store\\un_sdg_chroma_cosine\",\n",
    "                           embedding_function=hf)"
   ]
  },
  {
   "cell_type": "code",
   "execution_count": 19,
   "metadata": {},
   "outputs": [],
   "source": [
    "load_paris_agreement_store = Chroma(persist_directory=r\"C:\\Users\\ADMIN\\Desktop\\LANGCHAIN\\RAG_PROJECTS\\Merger_Retriever_LOTR\\store\\paris_agreement_chroma_cosine\",\n",
    "                                    embedding_function=hf)"
   ]
  },
  {
   "cell_type": "markdown",
   "metadata": {},
   "source": [
    "## Init Merger Retriever"
   ]
  },
  {
   "cell_type": "code",
   "execution_count": 31,
   "metadata": {},
   "outputs": [],
   "source": [
    "retriever_un_sdg = load_un_sdg_store.as_retriever(search_type = \"similarity\",\n",
    "                                                  search_kwargs = {\"k\":3})\n",
    "\n",
    "retriever_paris_agreement = load_paris_agreement_store.as_retriever(search_type = \"mmr\",\n",
    "                                                                    search_kwargs = {\"k\":3})"
   ]
  },
  {
   "cell_type": "code",
   "execution_count": 32,
   "metadata": {},
   "outputs": [],
   "source": [
    "lotr = MergerRetriever(retrievers=[retriever_un_sdg, retriever_paris_agreement])"
   ]
  },
  {
   "cell_type": "code",
   "execution_count": 33,
   "metadata": {},
   "outputs": [
    {
     "data": {
      "text/plain": [
       "MergerRetriever(retrievers=[VectorStoreRetriever(tags=['Chroma', 'HuggingFaceBgeEmbeddings'], vectorstore=<langchain_community.vectorstores.chroma.Chroma object at 0x0000024ACD4DB610>, search_kwargs={'k': 3}), VectorStoreRetriever(tags=['Chroma', 'HuggingFaceBgeEmbeddings'], vectorstore=<langchain_community.vectorstores.chroma.Chroma object at 0x0000024ACBAC5E70>, search_type='mmr', search_kwargs={'k': 3})])"
      ]
     },
     "execution_count": 33,
     "metadata": {},
     "output_type": "execute_result"
    }
   ],
   "source": [
    "lotr"
   ]
  },
  {
   "cell_type": "markdown",
   "metadata": {},
   "source": [
    "## Perform Semantic Search"
   ]
  },
  {
   "cell_type": "code",
   "execution_count": 35,
   "metadata": {},
   "outputs": [
    {
     "name": "stdout",
     "output_type": "stream",
     "text": [
      "[Document(page_content='resilience+ and+ adaptive+ capacity+ to+ climateJrelated+ hazards+ and+ natural+disasters+in+all+countries++13.2+Integrate+climate+change+measures+into+national+policies,+strategies+and+planning++13.3+Improve+education,+awarenessJraising+and+human+and+institutional+capacity+on+climate+change+mitigation,+adaptation,+impact+reduction+and+early+warning+13.a+Implement+the+commitment+undertaken+by+developedJcountry+parties+to+the+United+Nations+Framework+Convention+on+Climate+Change+to+a+goal+of+mobilizing+jointly+$100+billion+annually+by+2020+from+all+sources+to+address+the+needs+of+developing+countries+in+the+context+of+meaningful+mitigation+actions+and+transparency+on+implementation+and+fully+operationalize+the+Green+Climate+Fund+through+its+capitalization+as+soon+as+possible+++*+Acknowledging+that+the+United+Nations+Framework+Convention+on+Climate+Change+is+the+primary+international,+intergovernmental+forum+for+negotiating+the+global+response+to+climate+change.+', metadata={'page': 26, 'source': 'C:\\\\Users\\\\ADMIN\\\\Desktop\\\\LANGCHAIN\\\\RAG_PROJECTS\\\\Merger_Retriever_LOTR\\\\Data\\\\UN SDG.pdf'}), Document(page_content='finance should  represent a progression beyond previous efforts. \\n4. The provision of scaled-up financial resources should aim to achieve a \\nbalance between adaptation and mitigation, taking into account country-driven \\nstrategies, and the priorities and needs of developing country Parties, especially \\nthose that are particularly vulnerable to the adverse effects of climate change and \\nhave significant capacity constraints, such as the least developed countries and \\nsmall island developing States, considering the need for public and grant-based \\nresources for adaptation. \\n5. Developed country Parties shall biennially communicate indicative \\nquantitative and qualitative information related to paragraphs 1 and 3 of this \\nArticle, as applicable, including, as available, projected levels of public financial \\nresources to be provided to developing country Parties. Other Parties providing \\nresources are encouraged to communicate biennially such information on a \\nvoluntary basis.', metadata={'page': 14, 'source': 'C:\\\\Users\\\\ADMIN\\\\Desktop\\\\LANGCHAIN\\\\RAG_PROJECTS\\\\Merger_Retriever_LOTR\\\\Data\\\\english_paris_agreement.pdf'}), Document(page_content='and+ adaptation+ to+ climate+ change,+ resilience+ to+ disasters,+ and+ develop+ and+implement,+in+line+with+the+Sendai+Framework+for+Disaster+Risk+Reduction+2015J2030,+holistic+disaster+risk+management+at+all+levels++11.c+Support+least+developed+countries,+including+through+financial+and+technical+assistance,+in+building+sustainable+and+resilient+buildings+utilizing+local+materials+++!!Goal!12.!Ensure!sustainable!consumption!and!production!patterns!+12.1+Implement+the+10JYear+Framework+of+Programmes+on+Sustainable+Consumption+and+Production+ Patterns,+ all+ countries+ taking+ action,+ with+ developed+ countries+ taking+ the+ lead,+taking+into+account+the+development+and+capabilities+of+developing+countries+12.2+By+2030,+achieve+the+sustainable+management+and+efficient+use+of+natural+resources++', metadata={'page': 25, 'source': 'C:\\\\Users\\\\ADMIN\\\\Desktop\\\\LANGCHAIN\\\\RAG_PROJECTS\\\\Merger_Retriever_LOTR\\\\Data\\\\UN SDG.pdf'}), Document(page_content='2. Parties are encouraged to take action to implement and support, including \\nthrough results-based payments, the existing framework as set out in related \\nguidance and decisions already agreed under the Convention for: policy approaches \\nand positive incentives for activities relating to reducing emissions from \\ndeforestation and forest  degradation, and the  role of conservation, sustainable \\nmanagement of forests and enhancement of forest carbon stocks in developing \\ncountries; and alternative policy approaches, such as joint mitigation and \\nadaptation approaches for the integral and sustainable management of forests, \\nwhile reaffirming the importance of incentivizing, as appropriate, non-carbon \\nbenefits associated with such approaches. \\n-6-', metadata={'page': 7, 'source': 'C:\\\\Users\\\\ADMIN\\\\Desktop\\\\LANGCHAIN\\\\RAG_PROJECTS\\\\Merger_Retriever_LOTR\\\\Data\\\\english_paris_agreement.pdf'}), Document(page_content='by+removing+ market+ distortions,+ in+ accordance+ with+ national+ circumstances,+ including+ by+restructuring+taxation+and+phasing+out+those+harmful+subsidies,+where+they+exist,+to+reflect+their+environmental+impacts,+taking+fully+into+account+the+specific+needs+and+conditions+of+developing+countries+and+minimizing+the+possible+adverse+impacts+on+their+development+in+a+manner+that+protects+the+poor+and+the+affected+communities+++!!Goal!13.!Take!urgent!action!to!combat!climate!change!and!its!impacts*!+13.1+Strengthen+ resilience+ and+ adaptive+ capacity+ to+ climateJrelated+ hazards+ and+', metadata={'page': 26, 'source': 'C:\\\\Users\\\\ADMIN\\\\Desktop\\\\LANGCHAIN\\\\RAG_PROJECTS\\\\Merger_Retriever_LOTR\\\\Data\\\\UN SDG.pdf'}), Document(page_content='effects of climate change. \\n4. Accordingly, areas of cooperation and facilitation to enhance understanding, \\naction and support may include: \\n(a) Early warning systems; \\n(b) Emergency preparedness; \\n(c) Slow onset events; \\n(d) Events that may involve irreversible and permanent loss and damage; \\n(e) Comprehensive risk assessment and management; \\n(f) Risk insurance facilities, climate risk pooling  and other insurance \\nsolutions; \\n(g) Non-economic losses; and \\n(h) Resilience of communities, livelihoods and ecosystems. \\n-12-', metadata={'page': 13, 'source': 'C:\\\\Users\\\\ADMIN\\\\Desktop\\\\LANGCHAIN\\\\RAG_PROJECTS\\\\Merger_Retriever_LOTR\\\\Data\\\\english_paris_agreement.pdf'})]\n"
     ]
    }
   ],
   "source": [
    "docs = lotr.get_relevant_documents(\"Is there any framework available to tackle the climate change?\")\n",
    "print(docs)"
   ]
  },
  {
   "cell_type": "code",
   "execution_count": 34,
   "metadata": {},
   "outputs": [
    {
     "name": "stdout",
     "output_type": "stream",
     "text": [
      "resilience+ and+ adaptive+ capacity+ to+ climateJrelated+ hazards+ and+ natural+disasters+in+all+countries++13.2+Integrate+climate+change+measures+into+national+policies,+strategies+and+planning++13.3+Improve+education,+awarenessJraising+and+human+and+institutional+capacity+on+climate+change+mitigation,+adaptation,+impact+reduction+and+early+warning+13.a+Implement+the+commitment+undertaken+by+developedJcountry+parties+to+the+United+Nations+Framework+Convention+on+Climate+Change+to+a+goal+of+mobilizing+jointly+$100+billion+annually+by+2020+from+all+sources+to+address+the+needs+of+developing+countries+in+the+context+of+meaningful+mitigation+actions+and+transparency+on+implementation+and+fully+operationalize+the+Green+Climate+Fund+through+its+capitalization+as+soon+as+possible+++*+Acknowledging+that+the+United+Nations+Framework+Convention+on+Climate+Change+is+the+primary+international,+intergovernmental+forum+for+negotiating+the+global+response+to+climate+change.+\n",
      "finance should  represent a progression beyond previous efforts. \n",
      "4. The provision of scaled-up financial resources should aim to achieve a \n",
      "balance between adaptation and mitigation, taking into account country-driven \n",
      "strategies, and the priorities and needs of developing country Parties, especially \n",
      "those that are particularly vulnerable to the adverse effects of climate change and \n",
      "have significant capacity constraints, such as the least developed countries and \n",
      "small island developing States, considering the need for public and grant-based \n",
      "resources for adaptation. \n",
      "5. Developed country Parties shall biennially communicate indicative \n",
      "quantitative and qualitative information related to paragraphs 1 and 3 of this \n",
      "Article, as applicable, including, as available, projected levels of public financial \n",
      "resources to be provided to developing country Parties. Other Parties providing \n",
      "resources are encouraged to communicate biennially such information on a \n",
      "voluntary basis.\n",
      "and+ adaptation+ to+ climate+ change,+ resilience+ to+ disasters,+ and+ develop+ and+implement,+in+line+with+the+Sendai+Framework+for+Disaster+Risk+Reduction+2015J2030,+holistic+disaster+risk+management+at+all+levels++11.c+Support+least+developed+countries,+including+through+financial+and+technical+assistance,+in+building+sustainable+and+resilient+buildings+utilizing+local+materials+++!!Goal!12.!Ensure!sustainable!consumption!and!production!patterns!+12.1+Implement+the+10JYear+Framework+of+Programmes+on+Sustainable+Consumption+and+Production+ Patterns,+ all+ countries+ taking+ action,+ with+ developed+ countries+ taking+ the+ lead,+taking+into+account+the+development+and+capabilities+of+developing+countries+12.2+By+2030,+achieve+the+sustainable+management+and+efficient+use+of+natural+resources++\n",
      "2. Parties are encouraged to take action to implement and support, including \n",
      "through results-based payments, the existing framework as set out in related \n",
      "guidance and decisions already agreed under the Convention for: policy approaches \n",
      "and positive incentives for activities relating to reducing emissions from \n",
      "deforestation and forest  degradation, and the  role of conservation, sustainable \n",
      "management of forests and enhancement of forest carbon stocks in developing \n",
      "countries; and alternative policy approaches, such as joint mitigation and \n",
      "adaptation approaches for the integral and sustainable management of forests, \n",
      "while reaffirming the importance of incentivizing, as appropriate, non-carbon \n",
      "benefits associated with such approaches. \n",
      "-6-\n",
      "by+removing+ market+ distortions,+ in+ accordance+ with+ national+ circumstances,+ including+ by+restructuring+taxation+and+phasing+out+those+harmful+subsidies,+where+they+exist,+to+reflect+their+environmental+impacts,+taking+fully+into+account+the+specific+needs+and+conditions+of+developing+countries+and+minimizing+the+possible+adverse+impacts+on+their+development+in+a+manner+that+protects+the+poor+and+the+affected+communities+++!!Goal!13.!Take!urgent!action!to!combat!climate!change!and!its!impacts*!+13.1+Strengthen+ resilience+ and+ adaptive+ capacity+ to+ climateJrelated+ hazards+ and+\n",
      "effects of climate change. \n",
      "4. Accordingly, areas of cooperation and facilitation to enhance understanding, \n",
      "action and support may include: \n",
      "(a) Early warning systems; \n",
      "(b) Emergency preparedness; \n",
      "(c) Slow onset events; \n",
      "(d) Events that may involve irreversible and permanent loss and damage; \n",
      "(e) Comprehensive risk assessment and management; \n",
      "(f) Risk insurance facilities, climate risk pooling  and other insurance \n",
      "solutions; \n",
      "(g) Non-economic losses; and \n",
      "(h) Resilience of communities, livelihoods and ecosystems. \n",
      "-12-\n"
     ]
    }
   ],
   "source": [
    "for chunks in lotr.get_relevant_documents(\"Is there any framework available to tackle the climate change?\"):\n",
    "    print(chunks.page_content)"
   ]
  },
  {
   "cell_type": "markdown",
   "metadata": {},
   "source": [
    "## Reordered Docs (Tackling Lost in the Middle)"
   ]
  },
  {
   "cell_type": "code",
   "execution_count": 36,
   "metadata": {},
   "outputs": [
    {
     "data": {
      "text/plain": [
       "[Document(page_content='finance should  represent a progression beyond previous efforts. \\n4. The provision of scaled-up financial resources should aim to achieve a \\nbalance between adaptation and mitigation, taking into account country-driven \\nstrategies, and the priorities and needs of developing country Parties, especially \\nthose that are particularly vulnerable to the adverse effects of climate change and \\nhave significant capacity constraints, such as the least developed countries and \\nsmall island developing States, considering the need for public and grant-based \\nresources for adaptation. \\n5. Developed country Parties shall biennially communicate indicative \\nquantitative and qualitative information related to paragraphs 1 and 3 of this \\nArticle, as applicable, including, as available, projected levels of public financial \\nresources to be provided to developing country Parties. Other Parties providing \\nresources are encouraged to communicate biennially such information on a \\nvoluntary basis.', metadata={'page': 14, 'source': 'C:\\\\Users\\\\ADMIN\\\\Desktop\\\\LANGCHAIN\\\\RAG_PROJECTS\\\\Merger_Retriever_LOTR\\\\Data\\\\english_paris_agreement.pdf'}),\n",
       " Document(page_content='2. Parties are encouraged to take action to implement and support, including \\nthrough results-based payments, the existing framework as set out in related \\nguidance and decisions already agreed under the Convention for: policy approaches \\nand positive incentives for activities relating to reducing emissions from \\ndeforestation and forest  degradation, and the  role of conservation, sustainable \\nmanagement of forests and enhancement of forest carbon stocks in developing \\ncountries; and alternative policy approaches, such as joint mitigation and \\nadaptation approaches for the integral and sustainable management of forests, \\nwhile reaffirming the importance of incentivizing, as appropriate, non-carbon \\nbenefits associated with such approaches. \\n-6-', metadata={'page': 7, 'source': 'C:\\\\Users\\\\ADMIN\\\\Desktop\\\\LANGCHAIN\\\\RAG_PROJECTS\\\\Merger_Retriever_LOTR\\\\Data\\\\english_paris_agreement.pdf'}),\n",
       " Document(page_content='effects of climate change. \\n4. Accordingly, areas of cooperation and facilitation to enhance understanding, \\naction and support may include: \\n(a) Early warning systems; \\n(b) Emergency preparedness; \\n(c) Slow onset events; \\n(d) Events that may involve irreversible and permanent loss and damage; \\n(e) Comprehensive risk assessment and management; \\n(f) Risk insurance facilities, climate risk pooling  and other insurance \\nsolutions; \\n(g) Non-economic losses; and \\n(h) Resilience of communities, livelihoods and ecosystems. \\n-12-', metadata={'page': 13, 'source': 'C:\\\\Users\\\\ADMIN\\\\Desktop\\\\LANGCHAIN\\\\RAG_PROJECTS\\\\Merger_Retriever_LOTR\\\\Data\\\\english_paris_agreement.pdf'}),\n",
       " Document(page_content='by+removing+ market+ distortions,+ in+ accordance+ with+ national+ circumstances,+ including+ by+restructuring+taxation+and+phasing+out+those+harmful+subsidies,+where+they+exist,+to+reflect+their+environmental+impacts,+taking+fully+into+account+the+specific+needs+and+conditions+of+developing+countries+and+minimizing+the+possible+adverse+impacts+on+their+development+in+a+manner+that+protects+the+poor+and+the+affected+communities+++!!Goal!13.!Take!urgent!action!to!combat!climate!change!and!its!impacts*!+13.1+Strengthen+ resilience+ and+ adaptive+ capacity+ to+ climateJrelated+ hazards+ and+', metadata={'page': 26, 'source': 'C:\\\\Users\\\\ADMIN\\\\Desktop\\\\LANGCHAIN\\\\RAG_PROJECTS\\\\Merger_Retriever_LOTR\\\\Data\\\\UN SDG.pdf'}),\n",
       " Document(page_content='and+ adaptation+ to+ climate+ change,+ resilience+ to+ disasters,+ and+ develop+ and+implement,+in+line+with+the+Sendai+Framework+for+Disaster+Risk+Reduction+2015J2030,+holistic+disaster+risk+management+at+all+levels++11.c+Support+least+developed+countries,+including+through+financial+and+technical+assistance,+in+building+sustainable+and+resilient+buildings+utilizing+local+materials+++!!Goal!12.!Ensure!sustainable!consumption!and!production!patterns!+12.1+Implement+the+10JYear+Framework+of+Programmes+on+Sustainable+Consumption+and+Production+ Patterns,+ all+ countries+ taking+ action,+ with+ developed+ countries+ taking+ the+ lead,+taking+into+account+the+development+and+capabilities+of+developing+countries+12.2+By+2030,+achieve+the+sustainable+management+and+efficient+use+of+natural+resources++', metadata={'page': 25, 'source': 'C:\\\\Users\\\\ADMIN\\\\Desktop\\\\LANGCHAIN\\\\RAG_PROJECTS\\\\Merger_Retriever_LOTR\\\\Data\\\\UN SDG.pdf'}),\n",
       " Document(page_content='resilience+ and+ adaptive+ capacity+ to+ climateJrelated+ hazards+ and+ natural+disasters+in+all+countries++13.2+Integrate+climate+change+measures+into+national+policies,+strategies+and+planning++13.3+Improve+education,+awarenessJraising+and+human+and+institutional+capacity+on+climate+change+mitigation,+adaptation,+impact+reduction+and+early+warning+13.a+Implement+the+commitment+undertaken+by+developedJcountry+parties+to+the+United+Nations+Framework+Convention+on+Climate+Change+to+a+goal+of+mobilizing+jointly+$100+billion+annually+by+2020+from+all+sources+to+address+the+needs+of+developing+countries+in+the+context+of+meaningful+mitigation+actions+and+transparency+on+implementation+and+fully+operationalize+the+Green+Climate+Fund+through+its+capitalization+as+soon+as+possible+++*+Acknowledging+that+the+United+Nations+Framework+Convention+on+Climate+Change+is+the+primary+international,+intergovernmental+forum+for+negotiating+the+global+response+to+climate+change.+', metadata={'page': 26, 'source': 'C:\\\\Users\\\\ADMIN\\\\Desktop\\\\LANGCHAIN\\\\RAG_PROJECTS\\\\Merger_Retriever_LOTR\\\\Data\\\\UN SDG.pdf'})]"
      ]
     },
     "execution_count": 36,
     "metadata": {},
     "output_type": "execute_result"
    }
   ],
   "source": [
    "reordering = LongContextReorder()\n",
    "reordered_docs = reordering.transform_documents(docs)\n",
    "\n",
    "# Confirm that the 4 relevant documents are at beginning and end.\n",
    "reordered_docs"
   ]
  },
  {
   "cell_type": "code",
   "execution_count": null,
   "metadata": {},
   "outputs": [],
   "source": []
  }
 ],
 "metadata": {
  "kernelspec": {
   "display_name": "langchain",
   "language": "python",
   "name": "python3"
  },
  "language_info": {
   "codemirror_mode": {
    "name": "ipython",
    "version": 3
   },
   "file_extension": ".py",
   "mimetype": "text/x-python",
   "name": "python",
   "nbconvert_exporter": "python",
   "pygments_lexer": "ipython3",
   "version": "3.10.0"
  }
 },
 "nbformat": 4,
 "nbformat_minor": 2
}
